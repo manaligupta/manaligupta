{
  "nbformat": 4,
  "nbformat_minor": 0,
  "metadata": {
    "colab": {
      "name": "Stack Exchange Question classifier.ipynb",
      "provenance": [],
      "collapsed_sections": [],
      "authorship_tag": "ABX9TyNd8kZzRJFBXsCSYNu9tnk2"
    },
    "kernelspec": {
      "name": "python3",
      "display_name": "Python 3"
    },
    "language_info": {
      "name": "python"
    }
  },
  "cells": [
    {
      "cell_type": "code",
      "execution_count": null,
      "metadata": {
        "id": "Hfp7Hu9Mxunh"
      },
      "outputs": [],
      "source": [
        "# Stack Exchange Question classifier\n",
        "    \n",
        "import pandas as pd\n",
        "import numpy as np\n",
        "from sklearn.feature_extraction.text import TfidfVectorizer\n",
        "from sklearn import svm\n",
        "\n",
        "def convertTuple(tup):\n",
        "    str = ' '.join(tup)\n",
        "    return str\n",
        "\n",
        "data =open(\"training.json\").readlines()\n",
        "topic =[]\n",
        "questions = []\n",
        "excerpt = []\n",
        "\n",
        "for s in data[1:]:\n",
        "    s = s.replace('\"', '')\n",
        "    s = s.replace('{', '')\n",
        "    s = s.replace('}', '')\n",
        "    s = s.replace('topic:', '')\n",
        "    s = s.replace('question:', '')\n",
        "    s = s.replace('excerpt:', '')\n",
        "    list1 = s.strip().split(\",\")\n",
        "    tuple1 = tuple(list1)\n",
        "    topic.append(tuple1[0])\n",
        "    questions.append(tuple1[1])\n",
        "    str = convertTuple(tuple1[2:])\n",
        "    excerpt.append(str)\n",
        "    \n",
        "tuple2 = {'topics': topic, 'questions': questions, 'excerpt': excerpt}\n",
        "  \n",
        "df = pd.DataFrame(tuple2)\n",
        "vectorizer = TfidfVectorizer(ngram_range=(1,2), max_features=8000, stop_words='english')\n",
        "X_train = vectorizer.fit_transform(excerpt) #return document term matrix\n",
        "\n",
        "model = svm.LinearSVC()\n",
        "model.fit(vectorizer.transform(excerpt),topic)\n",
        "T = int(input())\n",
        "test = []\n",
        "for i in range(T):\n",
        "    inp = input() \n",
        "    test.append(inp)\n",
        "    #print(test)\n",
        "#vectorizer.fit_transform(test)\n",
        "predict = model.predict(vectorizer.transform(test))\n",
        "#print(predict[0])\n",
        "for i in range(len(predict)):\n",
        "    print(predict[i])"
      ]
    }
  ]
}