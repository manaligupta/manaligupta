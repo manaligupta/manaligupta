{
  "nbformat": 4,
  "nbformat_minor": 0,
  "metadata": {
    "colab": {
      "name": "Document classification.ipynb",
      "provenance": [],
      "collapsed_sections": [],
      "authorship_tag": "ABX9TyM0Urw30gqGkHpZimlRciEp"
    },
    "kernelspec": {
      "name": "python3",
      "display_name": "Python 3"
    },
    "language_info": {
      "name": "python"
    }
  },
  "cells": [
    {
      "cell_type": "code",
      "execution_count": null,
      "metadata": {
        "id": "Hfp7Hu9Mxunh"
      },
      "outputs": [],
      "source": [
        "# Document classification\n",
        "\n",
        "\n",
        "from sklearn.feature_extraction.text import TfidfVectorizer\n",
        "from sklearn import svm\n",
        "from sklearn.impute import SimpleImputer # used for handling missing data\n",
        "from sklearn.preprocessing import LabelEncoder, OneHotEncoder # used for encoding categorical data\n",
        "from sklearn.preprocessing import StandardScaler # used for feature scaling\n",
        "import numpy as np\n",
        "source = 'trainingdata.txt'\n",
        "data = open(source).readlines()\n",
        "#print(data)\n",
        "N = data[0]\n",
        "data.remove(data[0])\n",
        "x = []\n",
        "corpus = []\n",
        "for line in data:\n",
        "    x.append(int(line[0]))\n",
        "    corpus.append(line.split(\" \", 1)[1].strip())\n",
        "\n",
        "vectorizer = TfidfVectorizer(ngram_range=(1,2), max_features=8000, stop_words='english')\n",
        "X_train = vectorizer.fit_transform(corpus) #return document term matrix\n",
        "labelencoder_X = LabelEncoder()\n",
        "corpus = labelencoder_X.fit_transform(corpus)\n",
        "onehotencoder = OneHotEncoder()\n",
        "X_train = onehotencoder.fit_transform(corpus.reshape(-1,1)).toarray()\n",
        "labelencoder_Y = LabelEncoder()\n",
        "x = labelencoder_Y.fit_transform(x)\n",
        "\n",
        "model = svm.SVC(class_weight = 'balanced')\n",
        "model.fit(corpus.reshape(-1,1),x)\n",
        "T = int(input())\n",
        "test = []\n",
        "for i in range(T):\n",
        "    inp = input() \n",
        "    test.append(inp)\n",
        "vectorizer.fit_transform(test)\n",
        "\n",
        "labelencoder_X = LabelEncoder()\n",
        "test = labelencoder_X.fit_transform(test)\n",
        "onehotencoder = OneHotEncoder()\n",
        "X_train = onehotencoder.fit_transform(test.reshape(-1,1)).toarray()\n",
        "\n",
        "predict = model.predict(test.reshape(-1,1))\n",
        "for i in predict:\n",
        "    print(i)\n"
      ]
    }
  ]
}