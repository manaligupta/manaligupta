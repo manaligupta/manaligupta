{
  "nbformat": 4,
  "nbformat_minor": 0,
  "metadata": {
    "colab": {
      "name": "Quora Answer Classifier.ipynb",
      "provenance": [],
      "authorship_tag": "ABX9TyNrzvSBoYzDIxEpldWKxjoP"
    },
    "kernelspec": {
      "name": "python3",
      "display_name": "Python 3"
    },
    "language_info": {
      "name": "python"
    }
  },
  "cells": [
    {
      "cell_type": "code",
      "execution_count": null,
      "metadata": {
        "id": "Hfp7Hu9Mxunh"
      },
      "outputs": [],
      "source": [
        "# Quora Answer Classifier\n",
        "from sklearn.tree import DecisionTreeClassifier\n",
        "import numpy as np\n",
        "\n",
        "N, M = input().strip().split(\" \")\n",
        "y = []\n",
        "x = []\n",
        "for i in range(int(N)):\n",
        "    list1 = input().strip().split(\":\")\n",
        "    #if i< 5:\n",
        "        #print(list1[0])\n",
        "    if \"+\" in list1[0]:\n",
        "        y.append(\"+1\")\n",
        "    else:\n",
        "        y.append(\"-1\")\n",
        "    x1 = []\n",
        "    for x2 in list1[1:]:\n",
        "        #print(\"x2 \", float(x2.strip().split(\" \")[0]))\n",
        "        x1.append(float(x2.strip().split(\" \")[0]))\n",
        "    x.append(x1)\n",
        "        \n",
        "#print(\"y \",y[0:10])\n",
        "#print(\"x \", x)\n",
        "model = DecisionTreeClassifier()\n",
        "model.fit(np.array(x), np.array(y))\n",
        "T = int(input())\n",
        "test = []\n",
        "list2 = []\n",
        "name = []\n",
        "for i in range(T):\n",
        "    list2 = input().strip().split(\":\")\n",
        "    name.append(list2[0].strip().split(\" \")[0])\n",
        "    inp = []\n",
        "    for x2 in list2[1:]:\n",
        "        #print(\"x2 \", float(x2.strip().split(\" \")[0]))\n",
        "        inp.append(float(x2.strip().split(\" \")[0]))\n",
        "    test.append(inp)\n",
        "#print(\"test \", test[0:5])\n",
        "#vectorizer.fit_transform(test)\n",
        "predict = model.predict(np.array(test))\n",
        "#print(\"p \", len(predict))\n",
        "#print(\"n \", len(name))\n",
        "for i in range(len(predict)):\n",
        "    print(name[i]+\" \"+predict[i])"
      ]
    }
  ]
}