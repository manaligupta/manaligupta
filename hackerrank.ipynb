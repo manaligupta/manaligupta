{
  "nbformat": 4,
  "nbformat_minor": 0,
  "metadata": {
    "colab": {
      "name": "Untitled1.ipynb",
      "provenance": [],
      "collapsed_sections": [],
      "authorship_tag": "ABX9TyNotNVueBSfjIiZDYr6tQMF",
      "include_colab_link": true
    },
    "kernelspec": {
      "name": "python3",
      "display_name": "Python 3"
    },
    "language_info": {
      "name": "python"
    }
  },
  "cells": [
    {
      "cell_type": "markdown",
      "metadata": {
        "id": "view-in-github",
        "colab_type": "text"
      },
      "source": [
        "<a href=\"https://colab.research.google.com/github/manaligupta/manaligupta/blob/main/hackerrank.ipynb\" target=\"_parent\"><img src=\"https://colab.research.google.com/assets/colab-badge.svg\" alt=\"Open In Colab\"/></a>"
      ]
    },
    {
      "cell_type": "code",
      "source": [
        "%tensorflow_version 2.0"
      ],
      "metadata": {
        "colab": {
          "base_uri": "https://localhost:8080/"
        },
        "id": "QOCytfOw8mYO",
        "outputId": "6ee8740d-437a-49fc-e077-f366cd64b9b0"
      },
      "execution_count": null,
      "outputs": [
        {
          "output_type": "stream",
          "name": "stdout",
          "text": [
            "`%tensorflow_version` only switches the major version: 1.x or 2.x.\n",
            "You set: `2.0`. This will be interpreted as: `2.x`.\n",
            "\n",
            "\n",
            "TensorFlow 2.x selected.\n"
          ]
        }
      ]
    },
    {
      "cell_type": "code",
      "execution_count": null,
      "metadata": {
        "id": "npgmEjkU1iJp"
      },
      "outputs": [],
      "source": [
        "import numpy as np\n",
        "import pandas as pd\n",
        "from sklearn import linear_model as lm\n",
        "from sklearn import preprocessing as pp\n",
        "\n"
      ]
    },
    {
      "cell_type": "code",
      "source": [
        "F, N = map(int, input().split())\n",
        "train = np.array([input().split() for _ in range(N)], float)\n",
        "print(\"t=\", train)\n",
        "T = int(input())\n",
        "test = np.array([input().split() for _ in range(T)], float)"
      ],
      "metadata": {
        "colab": {
          "base_uri": "https://localhost:8080/"
        },
        "id": "qN3ejqfj688Z",
        "outputId": "0d9624a5-adf9-4d10-8399-b3dcfe14216c"
      },
      "execution_count": null,
      "outputs": [
        {
          "name": "stdout",
          "output_type": "stream",
          "text": [
            "2 4\n",
            "3 7 8\n",
            "2 5 7\n",
            "3 9 1\n",
            "4 7 5\n",
            "t= [[3. 7. 8.]\n",
            " [2. 5. 7.]\n",
            " [3. 9. 1.]\n",
            " [4. 7. 5.]]\n",
            "2\n",
            "2 7\n",
            "7 2\n"
          ]
        }
      ]
    },
    {
      "cell_type": "code",
      "source": [
        "\n",
        "print(type(train))\n",
        "mod = lm.LinearRegression()\n",
        "XtoP = pp.PolynomialFeatures(4, include_bias=False)\n",
        "model = mod.fit(XtoP.fit_transform(train[:, :-1]), train[:, -1])\n",
        "print(\"fit \", XtoP)\n",
        "ymod = mod.predict(XtoP.fit_transform(test))\n",
        "print(\"test\", test)\n",
        "print(*ymod, sep='\\n')"
      ],
      "metadata": {
        "id": "E9_U47nN1nb-",
        "colab": {
          "base_uri": "https://localhost:8080/"
        },
        "outputId": "43e45181-993c-480d-def9-d1ee804eb4ee"
      },
      "execution_count": null,
      "outputs": [
        {
          "output_type": "stream",
          "name": "stdout",
          "text": [
            "<class 'numpy.ndarray'>\n",
            "fit  PolynomialFeatures(degree=4, include_bias=False)\n",
            "test [[2. 7.]\n",
            " [7. 2.]]\n",
            "4.331382107900849\n",
            "-77.09093729327964\n"
          ]
        }
      ]
    },
    {
      "cell_type": "code",
      "source": [
        "print(f\"intercept: {model.intercept_}\")\n",
        "print(f\"slope: {model.coef_}\")\n"
      ],
      "metadata": {
        "id": "19S8tv8SuSxs"
      },
      "execution_count": null,
      "outputs": []
    },
    {
      "cell_type": "code",
      "source": [
        "train = np.array([input().split() for _ in range(N)], int)\n"
      ],
      "metadata": {
        "id": "0VcjwF4fFfjx"
      },
      "execution_count": null,
      "outputs": []
    },
    {
      "cell_type": "code",
      "source": [
        "print(train[:, :-3])\n",
        "print(train[:, -2])"
      ],
      "metadata": {
        "id": "Sr-QlRyEBUXZ"
      },
      "execution_count": null,
      "outputs": []
    },
    {
      "cell_type": "code",
      "source": [
        "\n",
        "\n",
        "import math\n",
        "import os\n",
        "import random\n",
        "import re\n",
        "import sys\n",
        "import pandas as pd\n",
        "import numpy as np\n",
        "from sklearn import linear_model as lm\n",
        "from sklearn import preprocessing as pp\n",
        "\n",
        "\n",
        "source = 'https://s3.amazonaws.com/hr-testcases/399/assets/trainingdata.txt'\n",
        "from urllib.request import urlopen\n",
        "data = urlopen(source).read()\n",
        "print(type(data))\n",
        "#table_data = pd.DataFrame(data)\n",
        "#print(\"table=\", table_data)\n",
        "\n",
        "\n",
        "from io import StringIO\n",
        "import matplotlib.pyplot as plt\n",
        "\n",
        "s=str(data,'utf-8')\n",
        "\n",
        "datas = StringIO(s) \n",
        "\n",
        "df=pd.read_csv(datas, header=None)\n",
        "print(df)\n",
        "x = df[0]\n",
        "x_ = np.array(x)\n",
        "y = df[1]\n",
        "y_ = np.array(y)\n",
        "\n",
        "plt.scatter(x_,y_)\n",
        "plt.xlabel('battery charged')\n",
        "# naming the y axis\n",
        "plt.ylabel('battery lasted')\n",
        "\n",
        "mod = lm.LinearRegression()\n",
        "XtoP = pp.PolynomialFeatures(include_bias=False)\n",
        "model = mod.fit(XtoP.fit_transform(x_.reshape(-1,1)), y)\n",
        "#print(\"fit \", XtoP)\n",
        "timeCharged = float(input().strip())\n",
        "\n",
        "ymod = mod.predict(XtoP.fit_transform(np.array(timeCharged).reshape(-1,1)))\n",
        "print(*ymod, sep='\\n')"
      ],
      "metadata": {
        "id": "wvsxX9osVCit",
        "colab": {
          "base_uri": "https://localhost:8080/",
          "height": 574
        },
        "outputId": "e4b54ac9-f3e5-46ce-f3b5-071ad9e73857"
      },
      "execution_count": null,
      "outputs": [
        {
          "output_type": "stream",
          "name": "stdout",
          "text": [
            "<class 'bytes'>\n",
            "       0     1\n",
            "0   2.81  5.62\n",
            "1   7.14  8.00\n",
            "2   2.72  5.44\n",
            "3   3.87  7.74\n",
            "4   1.90  3.80\n",
            "..   ...   ...\n",
            "95  4.38  8.00\n",
            "96  8.06  8.00\n",
            "97  8.05  8.00\n",
            "98  1.10  2.20\n",
            "99  6.65  8.00\n",
            "\n",
            "[100 rows x 2 columns]\n",
            "0.09\n",
            "0.3187798447820879\n"
          ]
        },
        {
          "output_type": "display_data",
          "data": {
            "text/plain": [
              "<Figure size 432x288 with 1 Axes>"
            ],
            "image/png": "[encoded data removed]"
          },
          "metadata": {
            "needs_background": "light"
          }
        }
      ]
    },
    {
      "cell_type": "code",
      "source": [
        "#laptop code in hackerrank\n",
        "\n",
        "\n",
        "import math\n",
        "import os\n",
        "import random\n",
        "import re\n",
        "import sys\n",
        "import pandas as pd\n",
        "import numpy as np\n",
        "from sklearn import linear_model as lm\n",
        "from sklearn import preprocessing as pp\n",
        "\n",
        "source = 'trainingdata.txt'\n",
        "#from urllib.request import urlopen\n",
        "data = open(source).readlines()\n",
        "#print(\"data \", data)\n",
        "x= []\n",
        "y= []\n",
        "\n",
        "#list1= data.split(\"\\n\")\n",
        "#print(\"list \", list1)\n",
        "for line in data:\n",
        "    #print(\"line \", line)\n",
        "    a, b = line.split(\",\")\n",
        "    x.append(float(a))\n",
        "    y.append(float(b))\n",
        "\n",
        "#print(\"x= \", x, \"y = \", y)\n",
        "\n",
        "\n",
        "x_ = np.array(x)\n",
        "y_ = np.array(y)\n",
        "\n",
        "mod = lm.LinearRegression()\n",
        "XtoP = pp.PolynomialFeatures(2, include_bias=False)\n",
        "model = mod.fit(XtoP.fit_transform(x_.reshape(-1,1)), y)\n",
        "#print(\"fit \", XtoP)\n",
        "timeCharged = float(input().strip())\n",
        "\n",
        "ymod = mod.predict(XtoP.fit_transform(np.array(timeCharged).reshape(-1,1)))\n",
        "print(*ymod, sep='\\n')\n"
      ],
      "metadata": {
        "id": "B88sJNKfqMHk",
        "colab": {
          "base_uri": "https://localhost:8080/",
          "height": 235
        },
        "outputId": "68cc46e9-0685-41bc-b3c3-74e56690ee34"
      },
      "execution_count": null,
      "outputs": [
        {
          "output_type": "error",
          "ename": "FileNotFoundError",
          "evalue": "ignored",
          "traceback": [
            "\u001b[0;31m---------------------------------------------------------------------------\u001b[0m",
            "\u001b[0;31mFileNotFoundError\u001b[0m                         Traceback (most recent call last)",
            "\u001b[0;32m<ipython-input-10-2708a560e775>\u001b[0m in \u001b[0;36m<module>\u001b[0;34m()\u001b[0m\n\u001b[1;32m     14\u001b[0m \u001b[0msource\u001b[0m \u001b[0;34m=\u001b[0m \u001b[0;34m'trainingdata.txt'\u001b[0m\u001b[0;34m\u001b[0m\u001b[0;34m\u001b[0m\u001b[0m\n\u001b[1;32m     15\u001b[0m \u001b[0;31m#from urllib.request import urlopen\u001b[0m\u001b[0;34m\u001b[0m\u001b[0;34m\u001b[0m\u001b[0;34m\u001b[0m\u001b[0m\n\u001b[0;32m---> 16\u001b[0;31m \u001b[0mdata\u001b[0m \u001b[0;34m=\u001b[0m \u001b[0mopen\u001b[0m\u001b[0;34m(\u001b[0m\u001b[0msource\u001b[0m\u001b[0;34m)\u001b[0m\u001b[0;34m.\u001b[0m\u001b[0mreadlines\u001b[0m\u001b[0;34m(\u001b[0m\u001b[0;34m)\u001b[0m\u001b[0;34m\u001b[0m\u001b[0;34m\u001b[0m\u001b[0m\n\u001b[0m\u001b[1;32m     17\u001b[0m \u001b[0;31m#print(\"data \", data)\u001b[0m\u001b[0;34m\u001b[0m\u001b[0;34m\u001b[0m\u001b[0;34m\u001b[0m\u001b[0m\n\u001b[1;32m     18\u001b[0m \u001b[0mx\u001b[0m\u001b[0;34m=\u001b[0m \u001b[0;34m[\u001b[0m\u001b[0;34m]\u001b[0m\u001b[0;34m\u001b[0m\u001b[0;34m\u001b[0m\u001b[0m\n",
            "\u001b[0;31mFileNotFoundError\u001b[0m: [Errno 2] No such file or directory: 'trainingdata.txt'"
          ]
        }
      ]
    },
    {
      "cell_type": "code",
      "source": [
        ""
      ],
      "metadata": {
        "id": "VXgyYtyQt8o0"
      },
      "execution_count": null,
      "outputs": []
    },
    {
      "cell_type": "code",
      "source": [
        "s = \"     My name is Manali.\\n I am 32 yrs old women.   \"\n",
        "print(s)\n",
        "\n",
        "list1 = s.strip().split(\" \")\n",
        "print(\"list1 \", list1)\n",
        "\n",
        "arr = np.array(list1)\n",
        "arr = arr.reshape(-1,2)\n",
        "print(\"arr \", arr)"
      ],
      "metadata": {
        "id": "voiBkr1t9fO-"
      },
      "execution_count": null,
      "outputs": []
    },
    {
      "cell_type": "code",
      "source": [
        "print(\"My name is %s. I am %d yrs old\" % (\"Manali\", 32))"
      ],
      "metadata": {
        "id": "NhvlS0eE9NsG"
      },
      "execution_count": null,
      "outputs": []
    },
    {
      "cell_type": "code",
      "source": [
        "# Enter your code here. Read input from STDIN. Print output to STDOUT\n",
        "#import pandas as pd\n",
        "from scipy.stats import pearsonr\n",
        "Physics = [15, 12, 8, 8, 7, 7, 7, 6, 5, 3]\n",
        "History = [10, 25, 17, 11, 13, 17, 20, 13, 9, 15]\n",
        "corr, _ = pearsonr(Physics, History)\n",
        "print(corr)"
      ],
      "metadata": {
        "colab": {
          "base_uri": "https://localhost:8080/"
        },
        "id": "bDhb-MGch-_R",
        "outputId": "a1cf014d-6b57-49f4-ae38-6160df830b61"
      },
      "execution_count": null,
      "outputs": [
        {
          "output_type": "stream",
          "name": "stdout",
          "text": [
            "0.1449981545806852\n"
          ]
        }
      ]
    },
    {
      "cell_type": "code",
      "source": [
        "# Confidence interval\n",
        "import numpy as np\n",
        "import scipy.stats as st\n",
        "N = int(input())\n",
        "a = input()\n",
        "#print(type(a))\n",
        "list_a = a.split(\" \")  \n",
        "#print(list_a)\n",
        "list_a1 = []\n",
        "for i in range(len(list_a)):\n",
        "    list_a1.append(int(list_a[i]))\n",
        "#print(list_a1)\n",
        "ci = st.t.interval(alpha=0.90, df=len(list_a1)-1, loc=np.mean(list_a1), scale=st.sem(list_a1))\n",
        "print(ci)"
      ],
      "metadata": {
        "id": "mTQkYhVto5sI"
      },
      "execution_count": null,
      "outputs": []
    },
    {
      "cell_type": "code",
      "source": [
        "import statistics as st\n",
        "print(st.mode([\"few\", \"few\", \"many\", \"some\"]))"
      ],
      "metadata": {
        "colab": {
          "base_uri": "https://localhost:8080/",
          "height": 304
        },
        "id": "cA9iUnxclLvI",
        "outputId": "9a1676bf-061c-4f0e-a20e-850b7c54e67f"
      },
      "execution_count": null,
      "outputs": [
        {
          "output_type": "error",
          "ename": "StatisticsError",
          "evalue": "ignored",
          "traceback": [
            "\u001b[0;31m---------------------------------------------------------------------------\u001b[0m",
            "\u001b[0;31mStatisticsError\u001b[0m                           Traceback (most recent call last)",
            "\u001b[0;32m<ipython-input-12-7dcd6492a4fc>\u001b[0m in \u001b[0;36m<module>\u001b[0;34m()\u001b[0m\n\u001b[1;32m      1\u001b[0m \u001b[0;32mimport\u001b[0m \u001b[0mstatistics\u001b[0m \u001b[0;32mas\u001b[0m \u001b[0mst\u001b[0m\u001b[0;34m\u001b[0m\u001b[0;34m\u001b[0m\u001b[0m\n\u001b[0;32m----> 2\u001b[0;31m \u001b[0mprint\u001b[0m\u001b[0;34m(\u001b[0m\u001b[0mst\u001b[0m\u001b[0;34m.\u001b[0m\u001b[0mmode\u001b[0m\u001b[0;34m(\u001b[0m\u001b[0;34m[\u001b[0m\u001b[0;34m\"few\"\u001b[0m\u001b[0;34m,\u001b[0m \u001b[0;34m\"few\"\u001b[0m\u001b[0;34m,\u001b[0m \u001b[0;34m\"many\"\u001b[0m\u001b[0;34m,\u001b[0m \u001b[0;34m\"some\"\u001b[0m\u001b[0;34m,\u001b[0m \u001b[0;34m\"many\"\u001b[0m\u001b[0;34m]\u001b[0m\u001b[0;34m)\u001b[0m\u001b[0;34m)\u001b[0m\u001b[0;34m\u001b[0m\u001b[0;34m\u001b[0m\u001b[0m\n\u001b[0m",
            "\u001b[0;32m/usr/lib/python3.7/statistics.py\u001b[0m in \u001b[0;36mmode\u001b[0;34m(data)\u001b[0m\n\u001b[1;32m    504\u001b[0m     \u001b[0;32melif\u001b[0m \u001b[0mtable\u001b[0m\u001b[0;34m:\u001b[0m\u001b[0;34m\u001b[0m\u001b[0;34m\u001b[0m\u001b[0m\n\u001b[1;32m    505\u001b[0m         raise StatisticsError(\n\u001b[0;32m--> 506\u001b[0;31m                 \u001b[0;34m'no unique mode; found %d equally common values'\u001b[0m \u001b[0;34m%\u001b[0m \u001b[0mlen\u001b[0m\u001b[0;34m(\u001b[0m\u001b[0mtable\u001b[0m\u001b[0;34m)\u001b[0m\u001b[0;34m\u001b[0m\u001b[0;34m\u001b[0m\u001b[0m\n\u001b[0m\u001b[1;32m    507\u001b[0m                 )\n\u001b[1;32m    508\u001b[0m     \u001b[0;32melse\u001b[0m\u001b[0;34m:\u001b[0m\u001b[0;34m\u001b[0m\u001b[0;34m\u001b[0m\u001b[0m\n",
            "\u001b[0;31mStatisticsError\u001b[0m: no unique mode; found 2 equally common values"
          ]
        }
      ]
    },
    {
      "cell_type": "code",
      "source": [
        "# Enter your code here. Read input from STDIN. Print output to STDOUT\n",
        "# Confidence interval\n",
        "import numpy as np\n",
        "import scipy.stats as st\n",
        "import statistics as stat\n",
        "N = int(input())\n",
        "a = input()\n",
        "#print(type(a))\n",
        "list_a = a.split(\" \")  \n",
        "#print(list_a)\n",
        "list_a1 = []\n",
        "for i in range(len(list_a)):\n",
        "    list_a1.append(int(list_a[i]))\n",
        "#print(list_a1)\n",
        "\n",
        "#mean\n",
        "print(stat.mean(list_a1))\n",
        "\n",
        "#median\n",
        "print(stat.median(list_a1))\n",
        "\n",
        "#mode\n",
        "print(min(stat.multimode(list_a1)))\n",
        "\n",
        "#SD\n",
        "print(stat.pstdev(list_a1))\n",
        "\n",
        "#CI\n",
        "#ci = st.t.interval(alpha=0.95, df=len(list_a1)-1, loc=np.mean(list_a1), scale=st.sem(list_a1))\n",
        "ci = st.norm.interval(alpha=0.95, loc=np.mean(list_a1), scale=st.sem(list_a1))\n",
        "print(ci[0], ci[1])"
      ],
      "metadata": {
        "id": "tb78JDWfoFLj"
      },
      "execution_count": null,
      "outputs": []
    },
    {
      "cell_type": "code",
      "source": [
        "# Enter your code here. Read input from STDIN. Print output to STDOUT\n",
        "from sklearn.feature_extraction.text import TfidfVectorizer\n",
        "from sklearn.linear_model import LogisticRegression\n",
        "\n",
        "source = 'trainingdata.txt'\n",
        "data = open(source).readlines()\n",
        "#print(data)\n",
        "N = data[0]\n",
        "#print(\"N \", N)\n",
        "data.remove(data[0])\n",
        "x = []\n",
        "corpus = []\n",
        "for line in data:\n",
        "    x.append(int(line[0]))\n",
        "    corpus.append(line.split(\" \", 1)[1].strip())\n",
        "#print(\"x \", x)\n",
        "#print(\"y \", y)\n",
        "vectorizer = TfidfVectorizer(ngram_range=(1,2), max_features=8000, stop_words='english')\n",
        "X_train = vectorizer.fit_transform(corpus) #return document term matrix\n",
        "model = LogisticRegression(solver='liblinear', multi_class='auto')\n",
        "model.fit(vectorizer.transform(corpus),x)\n",
        "T = int(input())\n",
        "test = []\n",
        "for i in range(T):\n",
        "    inp = input() \n",
        "    test.append(inp)\n",
        "    #print(test)\n",
        "\n",
        "predict = model.predict(vectorizer.transform(test))\n",
        "#print(predict[0])\n",
        "for i in range(len(predict)):\n",
        "    print(predict[i])"
      ],
      "metadata": {
        "id": "4tgO-vEeT83f"
      },
      "execution_count": null,
      "outputs": []
    },
    {
      "cell_type": "code",
      "source": [
        "# Document classififcation\n",
        "from sklearn.feature_extraction.text import TfidfVectorizer\n",
        "#from sklearn.linear_model import LogisticRegression\n",
        "from sklearn import svm\n",
        "source = 'trainingdata.txt'\n",
        "data = open(source).readlines()\n",
        "#print(data)\n",
        "N = data[0]\n",
        "#print(\"N \", N)\n",
        "data.remove(data[0])\n",
        "x = []\n",
        "corpus = []\n",
        "for line in data:\n",
        "    x.append(int(line[0]))\n",
        "    corpus.append(line.split(\" \", 1)[1].strip())\n",
        "#print(\"x \", x)\n",
        "#print(\"y \", y)\n",
        "vectorizer = TfidfVectorizer(ngram_range=(1,2), max_features=8000, stop_words='english')\n",
        "X_train = vectorizer.fit_transform(corpus) #return document term matrix\n",
        "#model = LogisticRegression(solver='liblinear', multi_class='auto')\n",
        "model = svm.LinearSVC()\n",
        "model.fit(vectorizer.transform(corpus),x)\n",
        "T = int(input())\n",
        "test = []\n",
        "for i in range(T):\n",
        "    inp = input() \n",
        "    test.append(inp)\n",
        "    #print(test)\n",
        "#vectorizer.fit_transform(test)\n",
        "predict = model.predict(vectorizer.transform(test))\n",
        "#print(predict[0])\n",
        "for i in range(len(predict)):\n",
        "    print(predict[i])\n"
      ],
      "metadata": {
        "colab": {
          "base_uri": "https://localhost:8080/",
          "height": 246
        },
        "id": "yxzVoz1UM94d",
        "outputId": "001db109-a0ea-41d7-d667-ca4f72a7cfb2"
      },
      "execution_count": null,
      "outputs": [
        {
          "output_type": "error",
          "ename": "FileNotFoundError",
          "evalue": "ignored",
          "traceback": [
            "\u001b[0;31m---------------------------------------------------------------------------\u001b[0m",
            "\u001b[0;31mFileNotFoundError\u001b[0m                         Traceback (most recent call last)",
            "\u001b[0;32m<ipython-input-1-769ba7ef3b9b>\u001b[0m in \u001b[0;36m<module>\u001b[0;34m()\u001b[0m\n\u001b[1;32m      7\u001b[0m \u001b[0;32mfrom\u001b[0m \u001b[0msklearn\u001b[0m \u001b[0;32mimport\u001b[0m \u001b[0msvm\u001b[0m\u001b[0;34m\u001b[0m\u001b[0;34m\u001b[0m\u001b[0m\n\u001b[1;32m      8\u001b[0m \u001b[0msource\u001b[0m \u001b[0;34m=\u001b[0m \u001b[0;34m'trainingdata.txt'\u001b[0m\u001b[0;34m\u001b[0m\u001b[0;34m\u001b[0m\u001b[0m\n\u001b[0;32m----> 9\u001b[0;31m \u001b[0mdata\u001b[0m \u001b[0;34m=\u001b[0m \u001b[0mopen\u001b[0m\u001b[0;34m(\u001b[0m\u001b[0msource\u001b[0m\u001b[0;34m)\u001b[0m\u001b[0;34m.\u001b[0m\u001b[0mreadlines\u001b[0m\u001b[0;34m(\u001b[0m\u001b[0;34m)\u001b[0m\u001b[0;34m\u001b[0m\u001b[0;34m\u001b[0m\u001b[0m\n\u001b[0m\u001b[1;32m     10\u001b[0m \u001b[0;31m#print(data)\u001b[0m\u001b[0;34m\u001b[0m\u001b[0;34m\u001b[0m\u001b[0;34m\u001b[0m\u001b[0m\n\u001b[1;32m     11\u001b[0m \u001b[0mN\u001b[0m \u001b[0;34m=\u001b[0m \u001b[0mdata\u001b[0m\u001b[0;34m[\u001b[0m\u001b[0;36m0\u001b[0m\u001b[0;34m]\u001b[0m\u001b[0;34m\u001b[0m\u001b[0;34m\u001b[0m\u001b[0m\n",
            "\u001b[0;31mFileNotFoundError\u001b[0m: [Errno 2] No such file or directory: 'trainingdata.txt'"
          ]
        }
      ]
    },
    {
      "cell_type": "code",
      "source": [
        "# Enter your code here. Read input from STDIN. Print output to STDOUT\n",
        "\n",
        "\n",
        "from sklearn.feature_extraction.text import TfidfVectorizer\n",
        "#from sklearn.linear_model import LogisticRegression\n",
        "from sklearn import svm\n",
        "from sklearn.impute import SimpleImputer # used for handling missing data\n",
        "from sklearn.preprocessing import LabelEncoder, OneHotEncoder # used for encoding categorical data\n",
        "from sklearn.preprocessing import StandardScaler # used for feature scaling\n",
        "import numpy as np\n",
        "source = 'trainingdata.txt'\n",
        "data = open(source).readlines()\n",
        "#print(data)\n",
        "N = data[0]\n",
        "data.remove(data[0])\n",
        "x = []\n",
        "corpus = []\n",
        "for line in data:\n",
        "    x.append(int(line[0]))\n",
        "    corpus.append(line.split(\" \", 1)[1].strip())\n",
        "\n",
        "vectorizer = TfidfVectorizer(ngram_range=(1,2), max_features=8000, stop_words='english')\n",
        "X_train = vectorizer.fit_transform(corpus) #return document term matrix\n",
        "#model = LogisticRegression(solver='liblinear', multi_class='auto')\n",
        "print(X_train)\n",
        "\n",
        "labelencoder_X = LabelEncoder()\n",
        "corpus = labelencoder_X.fit_transform(corpus)\n",
        "onehotencoder = OneHotEncoder()\n",
        "X_train = onehotencoder.fit_transform(corpus.reshape(-1,1)).toarray()\n",
        "labelencoder_Y = LabelEncoder()\n",
        "x = labelencoder_Y.fit_transform(x)\n",
        "\n",
        "model = svm.LinearSVC(class_weight = 'balanced')\n",
        "model.fit(corpus.reshape(-1,1),x)\n",
        "T = int(input())\n",
        "test = []\n",
        "for i in range(T):\n",
        "    inp = input() \n",
        "    test.append(inp)\n",
        "#vectorizer.fit_transform(test)\n",
        "predict = model.predict(test)\n",
        "for i in range(len(predict)):\n",
        "    print(predict[i])\n"
      ],
      "metadata": {
        "id": "w4-ByDLbgTs4"
      },
      "execution_count": null,
      "outputs": []
    },
    {
      "cell_type": "code",
      "source": [
        "# Document classification\n",
        "\n",
        "\n",
        "from sklearn.feature_extraction.text import TfidfVectorizer\n",
        "#from sklearn.linear_model import LogisticRegression\n",
        "from sklearn import svm\n",
        "from sklearn.impute import SimpleImputer # used for handling missing data\n",
        "from sklearn.preprocessing import LabelEncoder, OneHotEncoder # used for encoding categorical data\n",
        "from sklearn.preprocessing import StandardScaler # used for feature scaling\n",
        "import numpy as np\n",
        "source = 'trainingdata.txt'\n",
        "data = open(source).readlines()\n",
        "#print(data)\n",
        "N = data[0]\n",
        "data.remove(data[0])\n",
        "x = []\n",
        "corpus = []\n",
        "for line in data:\n",
        "    x.append(int(line[0]))\n",
        "    corpus.append(line.split(\" \", 1)[1].strip())\n",
        "\n",
        "vectorizer = TfidfVectorizer(ngram_range=(1,2), max_features=8000, stop_words='english')\n",
        "X_train = vectorizer.fit_transform(corpus) #return document term matrix\n",
        "#model = LogisticRegression(solver='liblinear', multi_class='auto')\n",
        "#print(\"X train \", X_train)\n",
        "\n",
        "labelencoder_X = LabelEncoder()\n",
        "corpus = labelencoder_X.fit_transform(corpus)\n",
        "onehotencoder = OneHotEncoder()\n",
        "X_train = onehotencoder.fit_transform(corpus.reshape(-1,1)).toarray()\n",
        "#for i in X_train[100]:\n",
        "#    if i != 0:\n",
        "        #print(\"X train1 \", i)\n",
        "labelencoder_Y = LabelEncoder()\n",
        "x = labelencoder_Y.fit_transform(x)\n",
        "\n",
        "model = svm.SVC(class_weight = 'balanced')\n",
        "model.fit(corpus.reshape(-1,1),x)\n",
        "T = int(input())\n",
        "test = []\n",
        "for i in range(T):\n",
        "    inp = input() \n",
        "    test.append(inp)\n",
        "vectorizer.fit_transform(test)\n",
        "\n",
        "labelencoder_X = LabelEncoder()\n",
        "test = labelencoder_X.fit_transform(test)\n",
        "onehotencoder = OneHotEncoder()\n",
        "X_train = onehotencoder.fit_transform(test.reshape(-1,1)).toarray()\n",
        "\n",
        "predict = model.predict(test.reshape(-1,1))\n",
        "\n",
        "for i in predict:\n",
        "    print(i)\n",
        "\n"
      ],
      "metadata": {
        "id": "RGtsgnrVCSnB"
      },
      "execution_count": null,
      "outputs": []
    },
    {
      "cell_type": "code",
      "source": [
        "# best aptitude\n",
        "from scipy.stats import pearsonr\n",
        "T = int(input())\n",
        "N = int(input())\n",
        "list1 = []\n",
        "\n",
        "for i in range(6):\n",
        "    list3 = []\n",
        "    str = input()\n",
        "    list2 = str.strip().split(\" \")\n",
        "    for x in list2:\n",
        "        list3.append(float(x))\n",
        "    #print(list3)\n",
        "    list1.append(list3)\n",
        "#print(list1)\n",
        "list4 = []\n",
        "for i in range(5):\n",
        "    corr, _ = pearsonr(list1[0], list1[i+1])\n",
        "    list4.append(corr)\n",
        "max = -100000\n",
        "for i in range(len(list4)):\n",
        "    if max< list4[i]:\n",
        "        max = list4[i]\n",
        "        index = i\n",
        "print(index+1)"
      ],
      "metadata": {
        "id": "Xf33W1xThXq-"
      },
      "execution_count": null,
      "outputs": []
    },
    {
      "cell_type": "code",
      "source": [
        "# Enter your code here. Read input from STDIN. Print output to STDOUT\n",
        "# Stack Exchange Question classifier\n",
        "    \n",
        "import pandas as pd\n",
        "import numpy as np\n",
        "from sklearn.feature_extraction.text import TfidfVectorizer\n",
        "from sklearn import svm\n",
        "\n",
        "def convertTuple(tup):\n",
        "    str = ' '.join(tup)\n",
        "    return str\n",
        "\n",
        "data =open(\"training.json\").readlines()\n",
        "#print(type(data))\n",
        "topic =[]\n",
        "questions = []\n",
        "excerpt = []\n",
        "\n",
        "for s in data[1:]:\n",
        "    s = s.replace('\"', '')\n",
        "    s = s.replace('{', '')\n",
        "    s = s.replace('}', '')\n",
        "    s = s.replace('topic:', '')\n",
        "    s = s.replace('question:', '')\n",
        "    s = s.replace('excerpt:', '')\n",
        "    list1 = s.strip().split(\",\")\n",
        "    tuple1 = tuple(list1)\n",
        "    #print(tuple1)\n",
        "    topic.append(tuple1[0])\n",
        "    questions.append(tuple1[1])\n",
        "    str = convertTuple(tuple1[2:])\n",
        "    #print(str)\n",
        "    excerpt.append(str)\n",
        "    \n",
        "tuple2 = {'topics': topic, 'questions': questions, 'excerpt': excerpt}\n",
        "  \n",
        "df = pd.DataFrame(tuple2)\n",
        "#print(df.head())\n",
        "#print(df.iloc[2])\n",
        "\n",
        "vectorizer = TfidfVectorizer(ngram_range=(1,2), max_features=8000, stop_words='english')\n",
        "X_train = vectorizer.fit_transform(excerpt) #return document term matrix\n",
        "#model = LogisticRegression(solver='liblinear', multi_class='auto')\n",
        "model = svm.LinearSVC()\n",
        "model.fit(vectorizer.transform(excerpt),topic)\n",
        "T = int(input())\n",
        "test = []\n",
        "for i in range(T):\n",
        "    inp = input() \n",
        "    test.append(inp)\n",
        "    #print(test)\n",
        "#vectorizer.fit_transform(test)\n",
        "predict = model.predict(vectorizer.transform(test))\n",
        "#print(predict[0])\n",
        "for i in range(len(predict)):\n",
        "    print(predict[i])\n",
        "\n",
        "\n",
        "\n",
        "\n",
        "\n",
        "\n",
        "\n",
        "\n",
        "\n",
        "\n"
      ],
      "metadata": {
        "id": "DEKxkYo8Mkch"
      },
      "execution_count": null,
      "outputs": []
    },
    {
      "cell_type": "code",
      "source": [
        "# Enter your code here. Read input from STDIN. Print output to STDOUT\n",
        "from sklearn.feature_extraction.text import TfidfVectorizer\n",
        "\n",
        "str = input()\n",
        "lines = str.split(\".\")\n",
        "question = []\n",
        "for i in range(5):\n",
        "    question.append(input())\n",
        "    \n",
        "print(\"str\", lines)\n",
        "print(\"questions \", question)\n",
        "tfidf_ = []\n",
        "\n",
        "vectorizer = TfidfVectorizer(ngram_range=(1,2), max_features=8000,stop_words='english')\n",
        "X_train = vectorizer.fit_transform(lines)\n",
        "print(X_train)\n"
      ],
      "metadata": {
        "colab": {
          "base_uri": "https://localhost:8080/"
        },
        "id": "847ClLQ7gha9",
        "outputId": "6e69a7ce-9b97-4c3c-e779-33aed642cfb5"
      },
      "execution_count": null,
      "outputs": [
        {
          "output_type": "stream",
          "name": "stdout",
          "text": [
            "Zebras are several species of African equids (horse family) united by their distinctive black and white stripes. Their stripes come in different patterns, unique to each individual. They are generally social animals that live in small harems to large herds. Unlike their closest relatives, horses and donkeys, zebras have never been truly domesticated. There are three species of zebras: the plains zebra, the Grévy's zebra and the mountain zebra. The plains zebra and the mountain zebra belong to the subgenus Hippotigris, but Grévy's zebra is the sole species of subgenus Dolichohippus. The latter resembles an ass, to which it is closely related, while the former two are more horse-like. All three belong to the genus Equus, along with other living equids. The unique stripes of zebras make them one of the animals most familiar to people. They occur in a variety of habitats, such as grasslands, savannas, woodlands, thorny scrublands, mountains, and coastal hills. However, various anthropogenic factors have had a severe impact on zebra populations, in particular hunting for skins and habitat destruction. Grévy's zebra and the mountain zebra are endangered. While plains zebras are much more plentiful, one subspecies, the quagga, became extinct in the late 19th century – though there is currently a plan, called the Quagga Project, that aims to breed zebras that are phenotypically similar to the quagga in a process called breeding back.\n",
            "Which Zebras are endangered?\n",
            "What is the aim of the Quagga Project?\n",
            "Which animals are some of their closest relatives?\n",
            "Which are the three species of zebras?\n",
            "Which subgenus do the plains zebra and the mountain zebra belong to?\n",
            "str ['Zebras are several species of African equids (horse family) united by their distinctive black and white stripes', ' Their stripes come in different patterns, unique to each individual', ' They are generally social animals that live in small harems to large herds', ' Unlike their closest relatives, horses and donkeys, zebras have never been truly domesticated', \" There are three species of zebras: the plains zebra, the Grévy's zebra and the mountain zebra\", \" The plains zebra and the mountain zebra belong to the subgenus Hippotigris, but Grévy's zebra is the sole species of subgenus Dolichohippus\", ' The latter resembles an ass, to which it is closely related, while the former two are more horse-like', ' All three belong to the genus Equus, along with other living equids', ' The unique stripes of zebras make them one of the animals most familiar to people', ' They occur in a variety of habitats, such as grasslands, savannas, woodlands, thorny scrublands, mountains, and coastal hills', ' However, various anthropogenic factors have had a severe impact on zebra populations, in particular hunting for skins and habitat destruction', \" Grévy's zebra and the mountain zebra are endangered\", ' While plains zebras are much more plentiful, one subspecies, the quagga, became extinct in the late 19th century – though there is currently a plan, called the Quagga Project, that aims to breed zebras that are phenotypically similar to the quagga in a process called breeding back', '']\n",
            "questions  ['Which Zebras are endangered?', 'What is the aim of the Quagga Project?', 'Which animals are some of their closest relatives?', 'Which are the three species of zebras?', 'Which subgenus do the plains zebra and the mountain zebra belong to?']\n",
            "  (0, 177)\t0.22888445084742612\n",
            "  (0, 17)\t0.22888445084742612\n",
            "  (0, 40)\t0.22888445084742612\n",
            "  (0, 169)\t0.22888445084742612\n",
            "  (0, 57)\t0.22888445084742612\n",
            "  (0, 77)\t0.22888445084742612\n",
            "  (0, 47)\t0.22888445084742612\n",
            "  (0, 3)\t0.22888445084742612\n",
            "  (0, 150)\t0.22888445084742612\n",
            "  (0, 192)\t0.22888445084742612\n",
            "  (0, 153)\t0.17626232313786896\n",
            "  (0, 176)\t0.22888445084742612\n",
            "  (0, 16)\t0.22888445084742612\n",
            "  (0, 39)\t0.22888445084742612\n",
            "  (0, 168)\t0.22888445084742612\n",
            "  (0, 56)\t0.22888445084742612\n",
            "  (0, 76)\t0.19810247942917553\n",
            "  (0, 46)\t0.19810247942917553\n",
            "  (0, 2)\t0.22888445084742612\n",
            "  (0, 149)\t0.17626232313786896\n",
            "  (0, 187)\t0.14548035171961832\n",
            "  (1, 166)\t0.31095278794899556\n",
            "  (1, 106)\t0.31095278794899556\n",
            "  (1, 38)\t0.31095278794899556\n",
            "  (1, 33)\t0.31095278794899556\n",
            "  :\t:\n",
            "  (12, 51)\t0.13839717137199417\n",
            "  (12, 124)\t0.13839717137199417\n",
            "  (12, 160)\t0.13839717137199417\n",
            "  (12, 116)\t0.13839717137199417\n",
            "  (12, 191)\t0.13839717137199417\n",
            "  (12, 112)\t0.13839717137199417\n",
            "  (12, 20)\t0.13839717137199417\n",
            "  (12, 119)\t0.13839717137199417\n",
            "  (12, 139)\t0.13839717137199417\n",
            "  (12, 108)\t0.13839717137199417\n",
            "  (12, 18)\t0.13839717137199417\n",
            "  (12, 4)\t0.13839717137199417\n",
            "  (12, 121)\t0.13839717137199417\n",
            "  (12, 21)\t0.27679434274398834\n",
            "  (12, 113)\t0.13839717137199417\n",
            "  (12, 34)\t0.13839717137199417\n",
            "  (12, 24)\t0.13839717137199417\n",
            "  (12, 0)\t0.13839717137199417\n",
            "  (12, 88)\t0.13839717137199417\n",
            "  (12, 50)\t0.13839717137199417\n",
            "  (12, 123)\t0.4151915141159825\n",
            "  (12, 159)\t0.13839717137199417\n",
            "  (12, 115)\t0.13839717137199417\n",
            "  (12, 110)\t0.10657869877757047\n",
            "  (12, 187)\t0.17593217095921757\n"
          ]
        }
      ]
    },
    {
      "cell_type": "code",
      "source": [
        "# Enter your code here. Read input from STDIN. Print output to STDOUT\n",
        "# Matching question answer\n",
        "from sklearn.feature_extraction.text import TfidfVectorizer\n",
        "import numpy as np\n",
        "from numpy.linalg import norm\n",
        "\n",
        "str = input()\n",
        "lines = str.strip().split(\".\")\n",
        "question = []\n",
        "for i in range(5):\n",
        "    question.append(input())\n",
        "ans = input().strip().split(\";\")\n",
        "#print(\"ans\", ans)\n",
        "tfidf_ = []\n",
        "\n",
        "vectorizer = TfidfVectorizer(ngram_range=(1,2), max_features=8000,stop_words='english')\n",
        "T_train= vectorizer.fit_transform(lines).toarray()\n",
        "T = vectorizer.transform(lines).toarray()\n",
        "Q = vectorizer.transform(question).toarray()\n",
        "A = vectorizer.transform(ans).toarray()\n",
        "#for i in range(len(lines)):\n",
        "#    print(\"i=\", i)\n",
        "#    print(lines[i])\n",
        "q_t = []\n",
        "for i in range(5):\n",
        "    cos = []\n",
        "    for j in range(len(lines)-1):\n",
        "        cosine = np.dot(Q[i],T[j])/(norm(Q[i])*norm(T[j]))\n",
        "        cos.append(cosine)\n",
        "    #print(cos)\n",
        "    q_t.append(cos.index(max(cos)))\n",
        "#print(\"--\", q_t)\n",
        "for x in q_t:\n",
        "    cos = []\n",
        "    for j in range(len(ans)):\n",
        "        cosine = np.dot(T[x],A[j])/(norm(T[x])*norm(A[j]))\n",
        "        cos.append(cosine)\n",
        "    print(ans[cos.index(max(cos))])\n",
        "    #ans.remove(ans[cos.index(max(cos))]) giving better answer \"i dont know how\"\n"
      ],
      "metadata": {
        "id": "UqFYO9i9girO"
      },
      "execution_count": null,
      "outputs": []
    },
    {
      "cell_type": "code",
      "source": [
        "# Quora Answer Classifier\n",
        "from sklearn.tree import DecisionTreeClassifier\n",
        "import numpy as np\n",
        "\n",
        "N, M = input().strip().split(\" \")\n",
        "y = []\n",
        "x = []\n",
        "for i in range(int(N)):\n",
        "    list1 = input().strip().split(\":\")\n",
        "    #if i< 5:\n",
        "        #print(list1[0])\n",
        "    if \"+\" in list1[0]:\n",
        "        y.append(\"+1\")\n",
        "    else:\n",
        "        y.append(\"-1\")\n",
        "    x1 = []\n",
        "    for x2 in list1[1:]:\n",
        "        #print(\"x2 \", float(x2.strip().split(\" \")[0]))\n",
        "        x1.append(float(x2.strip().split(\" \")[0]))\n",
        "    x.append(x1)\n",
        "        \n",
        "#print(\"y \",y[0:10])\n",
        "#print(\"x \", x)\n",
        "model = DecisionTreeClassifier()\n",
        "model.fit(np.array(x), np.array(y))\n",
        "T = int(input())\n",
        "test = []\n",
        "list2 = []\n",
        "name = []\n",
        "for i in range(T):\n",
        "    list2 = input().strip().split(\":\")\n",
        "    name.append(list2[0].strip().split(\" \")[0])\n",
        "    inp = []\n",
        "    for x2 in list2[1:]:\n",
        "        #print(\"x2 \", float(x2.strip().split(\" \")[0]))\n",
        "        inp.append(float(x2.strip().split(\" \")[0]))\n",
        "    test.append(inp)\n",
        "#print(\"test \", test[0:5])\n",
        "#vectorizer.fit_transform(test)\n",
        "predict = model.predict(np.array(test))\n",
        "#print(\"p \", len(predict))\n",
        "#print(\"n \", len(name))\n",
        "for i in range(len(predict)):\n",
        "    print(name[i]+\" \"+predict[i])\n",
        "\n",
        "    "
      ],
      "metadata": {
        "id": "eT2EQoeoVFEs"
      },
      "execution_count": null,
      "outputs": []
    },
    {
      "cell_type": "code",
      "source": [
        "# predict missing grades\n",
        "#from sklearn import svm\n",
        "from sklearn.neighbors import KNeighborsClassifier\n",
        "\n",
        "lines = open('training.json').readlines()\n",
        "#print(lines[1:5])\n",
        "x_train = []\n",
        "y_train = []\n",
        "for line in lines[1:]:\n",
        "    r = line.rstrip(\"\\n\").strip(\"{\").strip(\"}\").split(\",\")\n",
        "    list1 = []\n",
        "    for ri in r[0:-1]: \n",
        "        list1.append(int(ri.split(\":\")[1]))\n",
        "    x_train.append(list1[0:-1])\n",
        "    y_train.append(str(list1[4]))\n",
        "#model = svm.SVC() # Linear Kernel\n",
        "model = KNeighborsClassifier(n_neighbors=7)\n",
        "\n",
        "model.fit(x_train, y_train)\n",
        "T  = int(input())\n",
        "test = []\n",
        "for i in range(T):\n",
        "    r = input().strip(\"{\").strip(\"}\").split(\",\")\n",
        "    #print(\"r \", r)\n",
        "    list1 = []\n",
        "    for ri in r[0:-1]: \n",
        "        list1.append(int(ri.split(\":\")[1]))\n",
        "    test.append(list1)\n",
        "predict = model.predict(test)\n",
        "for i in range(len(predict)):\n",
        "    print(predict[i])\n",
        "    #print(1)\n"
      ],
      "metadata": {
        "id": "W5bRPTSp5lxK"
      },
      "execution_count": null,
      "outputs": []
    }
  ]
}