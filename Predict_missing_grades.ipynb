{
  "nbformat": 4,
  "nbformat_minor": 0,
  "metadata": {
    "colab": {
      "name": "Predict missing grades.ipynb",
      "provenance": [],
      "authorship_tag": "ABX9TyNqET+OhhOoGUE+Vk3qBZYR"
    },
    "kernelspec": {
      "name": "python3",
      "display_name": "Python 3"
    },
    "language_info": {
      "name": "python"
    }
  },
  "cells": [
    {
      "cell_type": "code",
      "execution_count": null,
      "metadata": {
        "id": "Hfp7Hu9Mxunh"
      },
      "outputs": [],
      "source": [
        "# predict missing grades\n",
        "#from sklearn import svm\n",
        "from sklearn.neighbors import KNeighborsClassifier\n",
        "\n",
        "lines = open('training.json').readlines()\n",
        "#print(lines[1:5])\n",
        "x_train = []\n",
        "y_train = []\n",
        "for line in lines[1:]:\n",
        "    r = line.rstrip(\"\\n\").strip(\"{\").strip(\"}\").split(\",\")\n",
        "    list1 = []\n",
        "    for ri in r[0:-1]: \n",
        "        list1.append(int(ri.split(\":\")[1]))\n",
        "    x_train.append(list1[0:-1])\n",
        "    y_train.append(str(list1[4]))\n",
        "#model = svm.SVC() # Linear Kernel\n",
        "model = KNeighborsClassifier(n_neighbors=7)\n",
        "\n",
        "model.fit(x_train, y_train)\n",
        "T  = int(input())\n",
        "test = []\n",
        "for i in range(T):\n",
        "    r = input().strip(\"{\").strip(\"}\").split(\",\")\n",
        "    #print(\"r \", r)\n",
        "    list1 = []\n",
        "    for ri in r[0:-1]: \n",
        "        list1.append(int(ri.split(\":\")[1]))\n",
        "    test.append(list1)\n",
        "predict = model.predict(test)\n",
        "for i in range(len(predict)):\n",
        "    print(predict[i])\n",
        "    #print(1)\n"
      ]
    }
  ]
}