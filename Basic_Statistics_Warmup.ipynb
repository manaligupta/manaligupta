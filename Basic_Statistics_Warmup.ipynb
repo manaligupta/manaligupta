{
  "nbformat": 4,
  "nbformat_minor": 0,
  "metadata": {
    "colab": {
      "name": "Basic Statistics Warmup.ipynb",
      "provenance": [],
      "collapsed_sections": [],
      "authorship_tag": "ABX9TyNQgRAsHFQF/MNuVw3s6xOH"
    },
    "kernelspec": {
      "name": "python3",
      "display_name": "Python 3"
    },
    "language_info": {
      "name": "python"
    }
  },
  "cells": [
    {
      "cell_type": "code",
      "execution_count": null,
      "metadata": {
        "id": "Hfp7Hu9Mxunh"
      },
      "outputs": [],
      "source": [
        "# Basic Statistics Warmup\n",
        "import numpy as np\n",
        "import scipy.stats as st\n",
        "import statistics as stat\n",
        "N = int(input())\n",
        "a = input()\n",
        "#print(type(a))\n",
        "list_a = a.split(\" \")  \n",
        "#print(list_a)\n",
        "list_a1 = []\n",
        "for i in range(len(list_a)):\n",
        "    list_a1.append(int(list_a[i]))\n",
        "#print(list_a1)\n",
        "\n",
        "#mean\n",
        "print(stat.mean(list_a1))\n",
        "\n",
        "#median\n",
        "print(stat.median(list_a1))\n",
        "\n",
        "#mode\n",
        "print(min(stat.multimode(list_a1)))\n",
        "\n",
        "#SD\n",
        "print(stat.pstdev(list_a1))\n",
        "\n",
        "#CI\n",
        "ci = st.norm.interval(alpha=0.95, loc=np.mean(list_a1), scale=st.sem(list_a1))\n",
        "print(ci[0], ci[1])"
      ]
    }
  ]
}