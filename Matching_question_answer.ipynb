{
  "nbformat": 4,
  "nbformat_minor": 0,
  "metadata": {
    "colab": {
      "name": "Matching question answer.ipynb",
      "provenance": [],
      "collapsed_sections": [],
      "authorship_tag": "ABX9TyNv1Tvk/0r7aZtfUU9hBXK9"
    },
    "kernelspec": {
      "name": "python3",
      "display_name": "Python 3"
    },
    "language_info": {
      "name": "python"
    }
  },
  "cells": [
    {
      "cell_type": "code",
      "execution_count": null,
      "metadata": {
        "id": "Hfp7Hu9Mxunh"
      },
      "outputs": [],
      "source": [
        "# Matching question answer\n",
        "from sklearn.feature_extraction.text import TfidfVectorizer\n",
        "import numpy as np\n",
        "from numpy.linalg import norm\n",
        "\n",
        "str = input()\n",
        "lines = str.strip().split(\".\")\n",
        "question = []\n",
        "for i in range(5):\n",
        "    question.append(input())\n",
        "ans = input().strip().split(\";\")\n",
        "#print(\"ans\", ans)\n",
        "tfidf_ = []\n",
        "\n",
        "vectorizer = TfidfVectorizer(ngram_range=(1,2), max_features=8000,stop_words='english')\n",
        "T_train= vectorizer.fit_transform(lines).toarray()\n",
        "T = vectorizer.transform(lines).toarray()\n",
        "Q = vectorizer.transform(question).toarray()\n",
        "A = vectorizer.transform(ans).toarray()\n",
        "#for i in range(len(lines)):\n",
        "#    print(\"i=\", i)\n",
        "#    print(lines[i])\n",
        "q_t = []\n",
        "for i in range(5):\n",
        "    cos = []\n",
        "    for j in range(len(lines)-1):\n",
        "        cosine = np.dot(Q[i],T[j])/(norm(Q[i])*norm(T[j]))\n",
        "        cos.append(cosine)\n",
        "    #print(cos)\n",
        "    q_t.append(cos.index(max(cos)))\n",
        "#print(\"--\", q_t)\n",
        "for x in q_t:\n",
        "    cos = []\n",
        "    for j in range(len(ans)):\n",
        "        cosine = np.dot(T[x],A[j])/(norm(T[x])*norm(A[j]))\n",
        "        cos.append(cosine)\n",
        "    print(ans[cos.index(max(cos))])\n",
        "    #ans.remove(ans[cos.index(max(cos))]) giving better answer \"i dont know how\"\n"
      ]
    }
  ]
}