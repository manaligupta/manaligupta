{
  "nbformat": 4,
  "nbformat_minor": 0,
  "metadata": {
    "colab": {
      "name": "Dota 2 Game Prediction.ipynb",
      "provenance": [],
      "authorship_tag": "ABX9TyM568d1xsVdKQ6kF524moKC"
    },
    "kernelspec": {
      "name": "python3",
      "display_name": "Python 3"
    },
    "language_info": {
      "name": "python"
    }
  },
  "cells": [
    {
      "cell_type": "code",
      "execution_count": null,
      "metadata": {
        "id": "6gkSJDgcXKE9"
      },
      "outputs": [],
      "source": [
        "# Dota 2 Game Prediction\n",
        "from sklearn.naive_bayes import GaussianNB\n",
        "import numpy as np\n",
        "train_data = open('trainingdata.txt').readlines()\n",
        "played = {}\n",
        "win = {}\n",
        "win_team = []\n",
        "for x in train_data:\n",
        "    list1 = x.rstrip('\\n').split(',')\n",
        "    win_team.append(int(list1[-1]))\n",
        "    for y in list1:\n",
        "        if y in played:\n",
        "            played[y] = played[y]+1\n",
        "        else:\n",
        "            played[y] = 1\n",
        "\n",
        "j=0\n",
        "for x in train_data:\n",
        "    list1 = x.rstrip('\\n').split(',')\n",
        "    i=0\n",
        "    for y in list1:\n",
        "        i=i+1\n",
        "        if (i<6 and win_team[j] == 1) or (i>=6 and win_team[j] == 2):\n",
        "            if y in win:\n",
        "                win[y] = win[y]+1\n",
        "            else:\n",
        "                win[y] = 1\n",
        "    j=j+1\n",
        "prob_win={}\n",
        "for y in win:\n",
        "    prob_win[y] = win[y]/played[y]\n",
        "prob1 = prob2 = 1\n",
        "k = int(input())\n",
        "for _ in range(k):\n",
        "    list2 = input().split(\",\")\n",
        "    for i in range(5):\n",
        "        prob1 = prob1*prob_win[list2[i]]\n",
        "    for i in range(5,10,1):\n",
        "        prob2 = prob2 * prob_win[list2[i]]\n",
        "    if prob1 > prob2:\n",
        "        print(1)\n",
        "    else:\n",
        "        print(2)"
      ]
    }
  ]
}