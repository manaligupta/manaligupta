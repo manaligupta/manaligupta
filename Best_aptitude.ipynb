{
  "nbformat": 4,
  "nbformat_minor": 0,
  "metadata": {
    "colab": {
      "name": "Best aptitude.ipynb",
      "provenance": [],
      "collapsed_sections": [],
      "authorship_tag": "ABX9TyOsJhkVKpqWiBJBwOzSRxzP"
    },
    "kernelspec": {
      "name": "python3",
      "display_name": "Python 3"
    },
    "language_info": {
      "name": "python"
    }
  },
  "cells": [
    {
      "cell_type": "code",
      "execution_count": null,
      "metadata": {
        "id": "Hfp7Hu9Mxunh"
      },
      "outputs": [],
      "source": [
        "# best aptitude\n",
        "from scipy.stats import pearsonr\n",
        "T = int(input())\n",
        "N = int(input())\n",
        "list1 = []\n",
        "\n",
        "for i in range(6):\n",
        "    list3 = []\n",
        "    str = input()\n",
        "    list2 = str.strip().split(\" \")\n",
        "    for x in list2:\n",
        "        list3.append(float(x))\n",
        "    #print(list3)\n",
        "    list1.append(list3)\n",
        "#print(list1)\n",
        "list4 = []\n",
        "for i in range(5):\n",
        "    corr, _ = pearsonr(list1[0], list1[i+1])\n",
        "    list4.append(corr)\n",
        "max = -100000\n",
        "for i in range(len(list4)):\n",
        "    if max< list4[i]:\n",
        "        max = list4[i]\n",
        "        index = i\n",
        "print(index+1)"
      ]
    }
  ]
}